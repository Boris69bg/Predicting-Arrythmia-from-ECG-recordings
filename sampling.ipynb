{
 "cells": [
  {
   "cell_type": "markdown",
   "metadata": {},
   "source": [
    "## This file contains some functions for data sampling"
   ]
  },
  {
   "cell_type": "code",
   "execution_count": 1,
   "metadata": {
    "collapsed": true
   },
   "outputs": [],
   "source": [
    "import numpy as np\n",
    "from sklearn.utils import shuffle\n",
    "from numpy import fft as fft"
   ]
  },
  {
   "cell_type": "code",
   "execution_count": 5,
   "metadata": {
    "collapsed": true
   },
   "outputs": [],
   "source": [
    "def segmentation(annotation_pos):\n",
    "    \n",
    "    '''annotation_pos is a dictionary that contains all the annotation positions for all subjects.\n",
    "    Return the starting positions of every beats, i.e. the middle point between the beat and the former beat.'''\n",
    "    \n",
    "    segmentation = {}\n",
    "    \n",
    "    for key in annotation_pos.keys():\n",
    "        ann_pos = annotation_pos[key]\n",
    "        # compute middle value between two neighboring annotation positions.\n",
    "        segmentation[key] = ((np.append(ann_pos, 0) + np.insert(ann_pos, 0, 0)) / 2.0)[:-1].astype(np.int64)\n",
    "        segmentation[key][0] = 0\n",
    "\n",
    "    return segmentation"
   ]
  },
  {
   "cell_type": "code",
   "execution_count": 2,
   "metadata": {
    "collapsed": true
   },
   "outputs": [],
   "source": [
    "def rolling_window(signal, segmentation_pos, annotation_sym, FDW_width, FW_width, gap_width, delay):\n",
    "    \n",
    "    '''\n",
    "    Draw samples from the dataset for time series forecasting.\n",
    "    The datasets are dictionaries that contain multiple subjects.\n",
    "    \n",
    "    signal, segmentation_pos, annotation_sym: dictionaries that contain all the signal arrays, \n",
    "    segmentation position arrays, and annotation symbols arrays.\n",
    "    FDW_width, FD_width, gap_width: widths(in number of beats) of the feature derivation window, \n",
    "    forecast window, and the gap in between.\n",
    "    delay: distance(in number of beats) between two consequential FDWs.    \n",
    "    '''  \n",
    "    \n",
    "    Dataset, Labelset=  {}, {}\n",
    "     \n",
    "    nsample = 0\n",
    "    for key in signal.keys():\n",
    "        \n",
    "        segmentation = segmentation_pos[key[:3]]\n",
    "            \n",
    "        # build dataset \n",
    "            # initialize window positions  \n",
    "        FDW_start = 1\n",
    "        FDW_end = FDW_start + FDW_width\n",
    "        FW_start = FDW_start + FDW_width + gap_width\n",
    "        FW_end = FDW_start + FDW_width + gap_width + FW_width\n",
    "            # draw samples while moving windows\n",
    "        while FW_end < len(segmentation):\n",
    "            data = np.append(signal[key][segmentation[FDW_start]:segmentation[FDW_end]], \n",
    "                             int(key[:3])) # add patient information to the array\n",
    "            label = annotation_sym[key[:3]][FW_start:FW_end]          \n",
    "            # add sample to dataset\n",
    "            Dataset[nsample], Labelset[nsample] = data, label\n",
    "            # move the window\n",
    "            FDW_start = FDW_start + delay\n",
    "            FDW_end = FDW_end + delay\n",
    "            FW_start = FW_start + delay\n",
    "            FW_end = FW_end + delay  \n",
    "            nsample = nsample + 1\n",
    "    \n",
    "    return Dataset, Labelset"
   ]
  },
  {
   "cell_type": "code",
   "execution_count": null,
   "metadata": {
    "collapsed": true
   },
   "outputs": [],
   "source": [
    "def split_dataset_by_patient(X, y, ratio):\n",
    "    '''\n",
    "    Split X and y to parts by patients. The last column of X is patient information.\n",
    "    ratio is a list contains the ratio of each part. sum(ratio) <= 1.\n",
    "    '''\n",
    "    patients = shuffle(list(set(X[:, -1])), random_state = 0)\n",
    "    k = len(ratio) # split to k part\n",
    "        \n",
    "    # create splitted patients and count sample numbers in each splitted  parts.\n",
    "    patient_split, count_part = {}, []\n",
    "    start = 0\n",
    "    for part in range(k):\n",
    "        if part == k - 1:\n",
    "            end = len(patients)\n",
    "        else:\n",
    "            end = start + int(len(patients) * ratio[part])\n",
    "        patient_split[part] = patients[start : end]\n",
    "        start = end\n",
    "        # count numbers of samples in each part\n",
    "        count = 0\n",
    "        for sample in range(X.shape[0]):\n",
    "            if X[sample, -1] in patient_split[part]:\n",
    "                count = count + 1\n",
    "        count_part = count_part + [count]\n",
    "\n",
    "         \n",
    "    # split samples according to patient_split\n",
    "    X_split, y_split = {}, {}\n",
    "    for part in range(k):\n",
    "        X_split[part] = np.zeros((count_part[part], X.shape[1]))\n",
    "        y_split[part] = np.zeros(count_part[part])\n",
    "        \n",
    "    count = np.zeros((k,), dtype = int)\n",
    "    for sample in range(X.shape[0]):\n",
    "        for part in range(k):\n",
    "            if X[sample, -1] in patient_split[part]:\n",
    "                X_split[part][count[part], :] = X[sample, :]\n",
    "                y_split[part][count[part]] = y[sample]\n",
    "                count[part] = count[part] + 1\n",
    "                break\n",
    "                    \n",
    "    return X_split, y_split"
   ]
  },
  {
   "cell_type": "code",
   "execution_count": 3,
   "metadata": {
    "collapsed": true
   },
   "outputs": [],
   "source": [
    "def build_data_matrix(SignalData, SegPos, AnnSym, FDW_width, FW_width, gap_width, delay):\n",
    "    \n",
    "    DataSet, LabelSet = rolling_window(SignalData, SegPos, AnnSym, FDW_width, FW_width, gap_width, delay)\n",
    "\n",
    "    # cropping\n",
    "    length = 2001\n",
    "    for key in DataSet.keys():\n",
    "        DataSet[key] = DataSet[key][-length:]\n",
    "\n",
    "    # return keys of N and AbNormal beats in the dataset\n",
    "    abnormal_beat_type = ['L','R','B','A','a','J','S','V','r','F','e','j','n','E','P','f','Q']\n",
    "    N_keys = [key for key, value in LabelSet.items() if value == ['N']]\n",
    "    Ab_keys = [key for key, value in LabelSet.items() if value[0] in abnormal_beat_type]\n",
    "    # count numbers of N and L beats in the forecast window\n",
    "    nN, nAb = len(N_keys), len(Ab_keys)\n",
    "\n",
    "    # build X and y  (note that the last column in X is patient information)\n",
    "    X = np.zeros((nAb * 2, length))\n",
    "    y = np.zeros(nAb * 2)\n",
    "\n",
    "    N_keys_reduced = shuffle(N_keys, n_samples = nAb, random_state = 0) # downsample N beat samples.\n",
    "\n",
    "    i = 0\n",
    "    for key in N_keys_reduced: \n",
    "        y[i] = 0\n",
    "        X[i,:] = DataSet[key]\n",
    "        i = i + 1\n",
    "    for key in Ab_keys:\n",
    "        y[i] = 1\n",
    "        X[i,:] = DataSet[key]\n",
    "        i = i + 1\n",
    "    X, y = shuffle(X, y, random_state = 0)\n",
    "\n",
    "    # FFT\n",
    "    Xf = np.zeros((X.shape[0], X.shape[1] + 1))\n",
    "    for i in range(X.shape[0]):\n",
    "        xf = fft.rfft(X[i,:-1]) # remove the last number in each array that represent patient information.\n",
    "        Xf[i, 0:(int((X.shape[1] + 1)/2))] = np.real(xf)\n",
    "        Xf[i, (int((X.shape[1] + 1)/2)):] = np.imag(xf)\n",
    "    Xf = np.append(Xf, X[:,-1][:,None], axis = 1) # add patient information to the last column.\n",
    "\n",
    "    test_ratio = 0.2\n",
    "    test_num = int(test_ratio * X.shape[0])\n",
    "    X, y = shuffle(X, y, random_state = 0)\n",
    "    Xmix_test, ymix_test = X[0:test_num, :-1], y[0:test_num]\n",
    "    Xmix_train, ymix_train = X[test_num:, :-1], y[test_num:]\n",
    "    \n",
    "    return(Xmix_train, ymix_train, Xmix_test, ymix_test)"
   ]
  }
 ],
 "metadata": {
  "kernelspec": {
   "display_name": "Python [conda root]",
   "language": "python",
   "name": "conda-root-py"
  },
  "language_info": {
   "codemirror_mode": {
    "name": "ipython",
    "version": 3
   },
   "file_extension": ".py",
   "mimetype": "text/x-python",
   "name": "python",
   "nbconvert_exporter": "python",
   "pygments_lexer": "ipython3",
   "version": "3.5.3"
  }
 },
 "nbformat": 4,
 "nbformat_minor": 2
}
